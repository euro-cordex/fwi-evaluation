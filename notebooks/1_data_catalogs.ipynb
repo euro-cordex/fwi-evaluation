{
 "cells": [
  {
   "cell_type": "markdown",
   "id": "363beceb-8670-4ded-a326-eee92ec784da",
   "metadata": {},
   "source": [
    "# Catalog Preparation\n",
    "\n",
    "The [NetCDF Java library](https://www.unidata.ucar.edu/software/netcdf-java/) implements the Common Data Model (CDM) to interface netCDF files to a variety of data formats (e.g., netCDF, HDF, GRIB). Layered above the basic data access, the CDM uses the metadata contained in datasets to provide a higher-level interface to geoscience specific features of datasets, in particular, providing geolocation and data subsetting in coordinate space. \n",
    "\n",
    "[**climate4R**](https://github.com/SantanderMetGroup/climate4R) leverages this CDM for a flexible and efficiente data access and retrieval, via the \"wrapper\" package `loadeR`, that works as an interface between R and the netCDF Java API, via a simple set of user-friendly functions.\n",
    "\n",
    "In this context, NcML is an XML representation of netCDF metadata, (approximately) the header information one gets from a netCDF file with the `ncdump -h`” command. A more advanced use is to modify existing NetCDF files, as well as to create \"virtual\" NetCDF datasets, for example through aggregation. [(Link to Unidata's NcML overview)](https://docs.unidata.ucar.edu/netcdf-java/5.6/userguide/ncml_overview.html)\n",
    "\n",
    "For FWI evaluation, we will create specific NcML datasets (a.k.a. \"catalogues\"), in order to efficiently retrieve the input variables, without worrying about the different paths and underlying files forming the dataset.\n"
   ]
  },
  {
   "cell_type": "code",
   "execution_count": 2,
   "id": "0b20f2d8-e946-45c6-a600-45a04429010f",
   "metadata": {},
   "outputs": [],
   "source": [
    "## Climate4R\n",
    "library(loadeR)\n"
   ]
  },
  {
   "cell_type": "markdown",
   "id": "03fc3cf4-5877-474b-93ee-90935fda955b",
   "metadata": {},
   "source": [
    "# Example with the CCLM6-0-1-URB RCM data"
   ]
  },
  {
   "cell_type": "markdown",
   "id": "847d4457-e03b-404f-b31f-5c246c894ce1",
   "metadata": {},
   "source": [
    "This is the directory containing the hourly data files of the evaluation run of this model:"
   ]
  },
  {
   "cell_type": "code",
   "execution_count": 4,
   "id": "e741407a-faa4-4e54-b411-0ce60799f8d9",
   "metadata": {},
   "outputs": [],
   "source": [
    "dir <- \"/mnt//CORDEX_CMIP6_tmp//sim_data//CORDEX-CMIP6//DD//EUR-12//CLMcom-CMCC/ERA5//evaluation//r1i1p1f1//CCLM6-0-1-URB//v1-r1//1hr\"\n"
   ]
  },
  {
   "cell_type": "markdown",
   "id": "bf977b52-4929-45e4-b8ab-a044467429c9",
   "metadata": {},
   "source": [
    "The creation of NcML can be done automatically with the loadeR's function `makeAggregatedDataset`. The function retrieves the directory structure and scans all netcdf files extracting the relevant metadata for NcML creation (optionally following a given character pattern to discard unwanted data)\n",
    "\n",
    "Next, in one line we create a 'virtual' dataset that contains only the input hourly variables we are interested in for FWI calculation, and store it in a target directory (Note that the NcML itself is only a XML representation of the data, which means that it is just a text file, and not the data itself):"
   ]
  },
  {
   "cell_type": "code",
   "execution_count": null,
   "id": "8a015b8c-c8d6-45ac-8b1b-20c59356f5c7",
   "metadata": {},
   "outputs": [],
   "source": [
    "makeAggregatedDataset(dir, recursive = TRUE,\n",
    "                      pattern = c(\"hurs|tas|sfcWind\"),\n",
    "                      ncml.file = \"../data_catalogs/CCLM6-0-1-URB_fwi_vars.ncml\")"
   ]
  },
  {
   "cell_type": "markdown",
   "id": "0fed9b46-577b-4c96-986a-b9a1b89556c5",
   "metadata": {},
   "source": [
    "Next, we display the first 10 lines of this file as a sample: "
   ]
  },
  {
   "cell_type": "code",
   "execution_count": 7,
   "id": "d82737a8-7e23-4a66-8536-4aeddf90aca8",
   "metadata": {},
   "outputs": [
    {
     "name": "stdout",
     "output_type": "stream",
     "text": [
      " [1] \"<?xml version=\\\"1.0\\\" encoding=\\\"UTF-8\\\"?>\"                                                                                                                                                                                                                                           \n",
      " [2] \"<netcdf xmlns=\\\"http://www.unidata.ucar.edu/namespaces/netcdf/ncml-2.2\\\">\"                                                                                                                                                                                                            \n",
      " [3] \"\\t<aggregation type=\\\"union\\\">\"                                                                                                                                                                                                                                                       \n",
      " [4] \"\\t\\t<netcdf>\"                                                                                                                                                                                                                                                                         \n",
      " [5] \"\\t\\t<aggregation dimName=\\\"time\\\" type=\\\"joinExisting\\\" timeUnitsChange=\\\"true\\\">\"                                                                                                                                                                                                    \n",
      " [6] \"\\t\\t<variableAgg name=\\\"hurs\\\"/>\"                                                                                                                                                                                                                                                     \n",
      " [7] \"\\t\\t\\t<netcdf location=\\\"/mnt/CORDEX_CMIP6_tmp/sim_data/CORDEX-CMIP6/DD/EUR-12/CLMcom-CMCC/ERA5/evaluation/r1i1p1f1/CCLM6-0-1-URB/v1-r1/1hr/hurs/v20250201/hurs_EUR-12_ERA5_evaluation_r1i1p1f1_CLMcom-CMCC_CCLM6-0-1-URB_v1-r1_1hr_198001010000-198012312300.nc\\\" ncoords=\\\"8784\\\"/>\"\n",
      " [8] \"\\t\\t\\t<netcdf location=\\\"/mnt/CORDEX_CMIP6_tmp/sim_data/CORDEX-CMIP6/DD/EUR-12/CLMcom-CMCC/ERA5/evaluation/r1i1p1f1/CCLM6-0-1-URB/v1-r1/1hr/hurs/v20250201/hurs_EUR-12_ERA5_evaluation_r1i1p1f1_CLMcom-CMCC_CCLM6-0-1-URB_v1-r1_1hr_198101010000-198112312300.nc\\\" ncoords=\\\"8760\\\"/>\"\n",
      " [9] \"\\t\\t\\t<netcdf location=\\\"/mnt/CORDEX_CMIP6_tmp/sim_data/CORDEX-CMIP6/DD/EUR-12/CLMcom-CMCC/ERA5/evaluation/r1i1p1f1/CCLM6-0-1-URB/v1-r1/1hr/hurs/v20250201/hurs_EUR-12_ERA5_evaluation_r1i1p1f1_CLMcom-CMCC_CCLM6-0-1-URB_v1-r1_1hr_198201010000-198212312300.nc\\\" ncoords=\\\"8760\\\"/>\"\n",
      "[10] \"\\t\\t\\t<netcdf location=\\\"/mnt/CORDEX_CMIP6_tmp/sim_data/CORDEX-CMIP6/DD/EUR-12/CLMcom-CMCC/ERA5/evaluation/r1i1p1f1/CCLM6-0-1-URB/v1-r1/1hr/hurs/v20250201/hurs_EUR-12_ERA5_evaluation_r1i1p1f1_CLMcom-CMCC_CCLM6-0-1-URB_v1-r1_1hr_198301010000-198312312300.nc\\\" ncoords=\\\"8760\\\"/>\"\n"
     ]
    }
   ],
   "source": [
    "sample <- readLines(\"../data_catalogs/CCLM6-0-1-URB_fwi_vars.ncml\", n = 10)\n",
    "print(sample)"
   ]
  },
  {
   "cell_type": "markdown",
   "id": "935c6435-778e-40ee-b39f-1d82ef4970ed",
   "metadata": {},
   "source": [
    "Now we are ready to loading the data pointing to the catalogue. Usually, before opening the data we would like to have an overview of its contents and structure. This is possible with `dataInventory`, that will provide information on available variables, spatio-temporal extent, size in Mb and so on..."
   ]
  },
  {
   "cell_type": "code",
   "execution_count": 8,
   "id": "14c9c3a9-19d1-4912-95b0-b4e18c3539ce",
   "metadata": {},
   "outputs": [
    {
     "name": "stderr",
     "output_type": "stream",
     "text": [
      "[2025-04-17 19:45:49.513671] Doing inventory ...\n",
      "\n",
      "[2025-04-17 19:45:53.269976] Retrieving info for 'hurs' (2 vars remaining)\n",
      "\n",
      "[2025-04-17 19:45:53.426528] Retrieving info for 'sfcWind' (1 vars remaining)\n",
      "\n",
      "[2025-04-17 19:45:53.462445] Retrieving info for 'tas' (0 vars remaining)\n",
      "\n",
      "[2025-04-17 19:45:53.492653] Done.\n",
      "\n"
     ]
    }
   ],
   "source": [
    "di <- dataInventory(dataset = \"../data_catalogs/CCLM6-0-1-URB_fwi_vars.ncml\")"
   ]
  },
  {
   "cell_type": "code",
   "execution_count": 9,
   "id": "0bf2db44-4729-4bd7-b3b6-3b37a7e4d4f0",
   "metadata": {},
   "outputs": [
    {
     "name": "stdout",
     "output_type": "stream",
     "text": [
      "List of 3\n",
      " $ hurs   :List of 7\n",
      "  ..$ Description: chr \"Near-Surface Relative Humidity\"\n",
      "  ..$ DataType   : chr \"float\"\n",
      "  ..$ Shape      : int [1:3] 368184 406 418\n",
      "  ..$ Units      : chr \"%\"\n",
      "  ..$ DataSizeMb : num 249935\n",
      "  ..$ Version    : logi NA\n",
      "  ..$ Dimensions :List of 3\n",
      "  .. ..$ time:List of 4\n",
      "  .. .. ..$ Type      : chr \"Time\"\n",
      "  .. .. ..$ TimeStep  : chr \".041666 days\"\n",
      "  .. .. ..$ Units     : chr \"days since 1949-12-01 00:00:00\"\n",
      "  .. .. ..$ Date_range: chr \"1980-01-01T00:00:00Z - 2021-12-31T23:00:00Z\"\n",
      "  .. ..$ rlat:List of 5\n",
      "  .. .. ..$ Type       : chr \"GeoY\"\n",
      "  .. .. ..$ Units      : chr \"degrees\"\n",
      "  .. .. ..$ Values     : num [1:406] -23 -22.9 -22.8 -22.7 -22.6 ...\n",
      "  .. .. ..$ Shape      : int 406\n",
      "  .. .. ..$ Coordinates: chr \"rlat\"\n",
      "  .. ..$ rlon:List of 5\n",
      "  .. .. ..$ Type       : chr \"GeoX\"\n",
      "  .. .. ..$ Units      : chr \"degrees\"\n",
      "  .. .. ..$ Values     : num [1:418] -28 -27.9 -27.8 -27.7 -27.6 ...\n",
      "  .. .. ..$ Shape      : int 418\n",
      "  .. .. ..$ Coordinates: chr \"rlon\"\n",
      " $ sfcWind:List of 7\n",
      "  ..$ Description: chr \"Near-Surface Wind Speed\"\n",
      "  ..$ DataType   : chr \"float\"\n",
      "  ..$ Shape      : int [1:3] 368184 406 418\n",
      "  ..$ Units      : chr \"m s-1\"\n",
      "  ..$ DataSizeMb : num 249935\n",
      "  ..$ Version    : logi NA\n",
      "  ..$ Dimensions :List of 3\n",
      "  .. ..$ time:List of 4\n",
      "  .. .. ..$ Type      : chr \"Time\"\n",
      "  .. .. ..$ TimeStep  : chr \".041666 days\"\n",
      "  .. .. ..$ Units     : chr \"days since 1949-12-01 00:00:00\"\n",
      "  .. .. ..$ Date_range: chr \"1980-01-01T00:00:00Z - 2021-12-31T23:00:00Z\"\n",
      "  .. ..$ rlat:List of 5\n",
      "  .. .. ..$ Type       : chr \"GeoY\"\n",
      "  .. .. ..$ Units      : chr \"degrees\"\n",
      "  .. .. ..$ Values     : num [1:406] -23 -22.9 -22.8 -22.7 -22.6 ...\n",
      "  .. .. ..$ Shape      : int 406\n",
      "  .. .. ..$ Coordinates: chr \"rlat\"\n",
      "  .. ..$ rlon:List of 5\n",
      "  .. .. ..$ Type       : chr \"GeoX\"\n",
      "  .. .. ..$ Units      : chr \"degrees\"\n",
      "  .. .. ..$ Values     : num [1:418] -28 -27.9 -27.8 -27.7 -27.6 ...\n",
      "  .. .. ..$ Shape      : int 418\n",
      "  .. .. ..$ Coordinates: chr \"rlon\"\n",
      " $ tas    :List of 7\n",
      "  ..$ Description: chr \"Near-Surface Air Temperature\"\n",
      "  ..$ DataType   : chr \"float\"\n",
      "  ..$ Shape      : int [1:3] 368184 406 418\n",
      "  ..$ Units      : chr \"K\"\n",
      "  ..$ DataSizeMb : num 249935\n",
      "  ..$ Version    : logi NA\n",
      "  ..$ Dimensions :List of 3\n",
      "  .. ..$ time:List of 4\n",
      "  .. .. ..$ Type      : chr \"Time\"\n",
      "  .. .. ..$ TimeStep  : chr \".041666 days\"\n",
      "  .. .. ..$ Units     : chr \"days since 1949-12-01 00:00:00\"\n",
      "  .. .. ..$ Date_range: chr \"1980-01-01T00:00:00Z - 2021-12-31T23:00:00Z\"\n",
      "  .. ..$ rlat:List of 5\n",
      "  .. .. ..$ Type       : chr \"GeoY\"\n",
      "  .. .. ..$ Units      : chr \"degrees\"\n",
      "  .. .. ..$ Values     : num [1:406] -23 -22.9 -22.8 -22.7 -22.6 ...\n",
      "  .. .. ..$ Shape      : int 406\n",
      "  .. .. ..$ Coordinates: chr \"rlat\"\n",
      "  .. ..$ rlon:List of 5\n",
      "  .. .. ..$ Type       : chr \"GeoX\"\n",
      "  .. .. ..$ Units      : chr \"degrees\"\n",
      "  .. .. ..$ Values     : num [1:418] -28 -27.9 -27.8 -27.7 -27.6 ...\n",
      "  .. .. ..$ Shape      : int 418\n",
      "  .. .. ..$ Coordinates: chr \"rlon\"\n"
     ]
    }
   ],
   "source": [
    "str(di)"
   ]
  },
  {
   "cell_type": "markdown",
   "id": "3947f403-ce1b-4c89-b50e-eb8626aa7ec0",
   "metadata": {},
   "source": [
    "## Accumulated precipitation catalogue"
   ]
  },
  {
   "cell_type": "markdown",
   "id": "8aec3720-ba1c-456d-9ad1-20fb28b48bfc",
   "metadata": {},
   "source": [
    "We create a different catalogue for precipitation, since this variable has been pre-processed by us in order to obtain 12-12 accumulated values:"
   ]
  },
  {
   "cell_type": "code",
   "execution_count": 3,
   "id": "e3131182-6b1a-47ae-815e-8226620809a9",
   "metadata": {},
   "outputs": [
    {
     "name": "stderr",
     "output_type": "stream",
     "text": [
      "[2025-04-15 10:04:30.036542] Creating dataset from 42 files\n",
      "\n",
      "[2025-04-15 10:04:31.68554] Scanning file 1 out of 1\n",
      "\n",
      "[2025-04-15 10:04:31.693069] Defining aggregating dimension length\n",
      "This process may be slow but will significantly speed-up data retrieval...\n",
      "\n",
      "[2025-04-15 10:04:31.957102] Dimension length defined\n",
      "\n",
      "[2025-04-15 10:04:31.958521] NcML file \"../data_catalogs/CCLM6-0-1-URB_pr12.ncml\" created from 42 files corresponding to 1 variables\n",
      "\n",
      "Use 'dataInventory' to obtain a description of the dataset\n",
      "\n"
     ]
    }
   ],
   "source": [
    "dir.pr <- \"../data_tmp/CCLM6-0-1-URB/\"\n",
    "makeAggregatedDataset(dir.pr, pattern = \"nc$\",\n",
    "                      ncml.file = \"../data_catalogs/CCLM6-0-1-URB_pr12.ncml\")"
   ]
  },
  {
   "cell_type": "markdown",
   "id": "c3250c7e-bcaf-488d-9fa2-473cfdab87aa",
   "metadata": {},
   "source": [
    "## More information\n",
    "\n",
    "The notebook `FWI_example.ipynb` illustrates data loading from the catalogues.\n"
   ]
  }
 ],
 "metadata": {
  "kernelspec": {
   "display_name": "R",
   "language": "R",
   "name": "ir"
  },
  "language_info": {
   "codemirror_mode": "r",
   "file_extension": ".r",
   "mimetype": "text/x-r-source",
   "name": "R",
   "pygments_lexer": "r",
   "version": "4.3.3"
  }
 },
 "nbformat": 4,
 "nbformat_minor": 5
}
